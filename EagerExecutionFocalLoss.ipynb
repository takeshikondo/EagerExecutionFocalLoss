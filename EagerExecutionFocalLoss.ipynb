{
 "cells": [
  {
   "cell_type": "markdown",
   "metadata": {},
   "source": [
    "## - TensorFlow Eager Execution"
   ]
  },
  {
   "cell_type": "markdown",
   "metadata": {},
   "source": [
    "## - Focal Loss for Imbalanced Data"
   ]
  },
  {
   "cell_type": "markdown",
   "metadata": {},
   "source": [
    "### Library"
   ]
  },
  {
   "cell_type": "code",
   "execution_count": 1,
   "metadata": {},
   "outputs": [],
   "source": [
    "import os\n",
    "import pandas as pd\n",
    "import numpy as np\n",
    "import matplotlib.pyplot as plt\n",
    "%matplotlib inline\n",
    "import seaborn as sns\n",
    "from tqdm import tqdm\n",
    "\n",
    "from sklearn.model_selection  import train_test_split\n",
    "from sklearn import metrics\n",
    "\n",
    "import tensorflow as tf\n",
    "import tensorflow.contrib.eager as tfe\n",
    "from tensorflow.keras.callbacks import EarlyStopping, ReduceLROnPlateau\n",
    "\n",
    "np.random.seed(0)"
   ]
  },
  {
   "cell_type": "markdown",
   "metadata": {},
   "source": [
    "### Eager execution"
   ]
  },
  {
   "cell_type": "code",
   "execution_count": 2,
   "metadata": {},
   "outputs": [],
   "source": [
    "tf.enable_eager_execution()"
   ]
  },
  {
   "cell_type": "code",
   "execution_count": 3,
   "metadata": {},
   "outputs": [
    {
     "name": "stdout",
     "output_type": "stream",
     "text": [
      "TensorFlow version: 1.13.1\n",
      "Eager execution: True\n"
     ]
    }
   ],
   "source": [
    "print (\"TensorFlow version: {}\".format(tf.VERSION))\n",
    "print (\"Eager execution: {}\".format(tf.executing_eagerly()))"
   ]
  },
  {
   "cell_type": "markdown",
   "metadata": {},
   "source": [
    "### Data"
   ]
  },
  {
   "cell_type": "code",
   "execution_count": 4,
   "metadata": {},
   "outputs": [],
   "source": [
    "cwd = os.getcwd()\n",
    "\n",
    "path = os.path.join(cwd, 'data')\n",
    "file = 'PS_20174392719_1491204439457_log.csv'"
   ]
  },
  {
   "cell_type": "code",
   "execution_count": 5,
   "metadata": {},
   "outputs": [
    {
     "name": "stdout",
     "output_type": "stream",
     "text": [
      "shape:  (6362620, 11)\n"
     ]
    },
    {
     "data": {
      "text/html": [
       "<div>\n",
       "<style scoped>\n",
       "    .dataframe tbody tr th:only-of-type {\n",
       "        vertical-align: middle;\n",
       "    }\n",
       "\n",
       "    .dataframe tbody tr th {\n",
       "        vertical-align: top;\n",
       "    }\n",
       "\n",
       "    .dataframe thead th {\n",
       "        text-align: right;\n",
       "    }\n",
       "</style>\n",
       "<table border=\"1\" class=\"dataframe\">\n",
       "  <thead>\n",
       "    <tr style=\"text-align: right;\">\n",
       "      <th></th>\n",
       "      <th>step</th>\n",
       "      <th>type</th>\n",
       "      <th>amount</th>\n",
       "      <th>nameOrig</th>\n",
       "      <th>oldbalanceOrg</th>\n",
       "      <th>newbalanceOrig</th>\n",
       "      <th>nameDest</th>\n",
       "      <th>oldbalanceDest</th>\n",
       "      <th>newbalanceDest</th>\n",
       "      <th>isFraud</th>\n",
       "      <th>isFlaggedFraud</th>\n",
       "    </tr>\n",
       "  </thead>\n",
       "  <tbody>\n",
       "    <tr>\n",
       "      <th>0</th>\n",
       "      <td>1</td>\n",
       "      <td>PAYMENT</td>\n",
       "      <td>9839.64</td>\n",
       "      <td>C1231006815</td>\n",
       "      <td>170136.0</td>\n",
       "      <td>160296.36</td>\n",
       "      <td>M1979787155</td>\n",
       "      <td>0.0</td>\n",
       "      <td>0.0</td>\n",
       "      <td>0</td>\n",
       "      <td>0</td>\n",
       "    </tr>\n",
       "    <tr>\n",
       "      <th>1</th>\n",
       "      <td>1</td>\n",
       "      <td>PAYMENT</td>\n",
       "      <td>1864.28</td>\n",
       "      <td>C1666544295</td>\n",
       "      <td>21249.0</td>\n",
       "      <td>19384.72</td>\n",
       "      <td>M2044282225</td>\n",
       "      <td>0.0</td>\n",
       "      <td>0.0</td>\n",
       "      <td>0</td>\n",
       "      <td>0</td>\n",
       "    </tr>\n",
       "    <tr>\n",
       "      <th>2</th>\n",
       "      <td>1</td>\n",
       "      <td>TRANSFER</td>\n",
       "      <td>181.00</td>\n",
       "      <td>C1305486145</td>\n",
       "      <td>181.0</td>\n",
       "      <td>0.00</td>\n",
       "      <td>C553264065</td>\n",
       "      <td>0.0</td>\n",
       "      <td>0.0</td>\n",
       "      <td>1</td>\n",
       "      <td>0</td>\n",
       "    </tr>\n",
       "    <tr>\n",
       "      <th>3</th>\n",
       "      <td>1</td>\n",
       "      <td>CASH_OUT</td>\n",
       "      <td>181.00</td>\n",
       "      <td>C840083671</td>\n",
       "      <td>181.0</td>\n",
       "      <td>0.00</td>\n",
       "      <td>C38997010</td>\n",
       "      <td>21182.0</td>\n",
       "      <td>0.0</td>\n",
       "      <td>1</td>\n",
       "      <td>0</td>\n",
       "    </tr>\n",
       "    <tr>\n",
       "      <th>4</th>\n",
       "      <td>1</td>\n",
       "      <td>PAYMENT</td>\n",
       "      <td>11668.14</td>\n",
       "      <td>C2048537720</td>\n",
       "      <td>41554.0</td>\n",
       "      <td>29885.86</td>\n",
       "      <td>M1230701703</td>\n",
       "      <td>0.0</td>\n",
       "      <td>0.0</td>\n",
       "      <td>0</td>\n",
       "      <td>0</td>\n",
       "    </tr>\n",
       "  </tbody>\n",
       "</table>\n",
       "</div>"
      ],
      "text/plain": [
       "   step      type    amount     nameOrig  oldbalanceOrg  newbalanceOrig  \\\n",
       "0     1   PAYMENT   9839.64  C1231006815       170136.0       160296.36   \n",
       "1     1   PAYMENT   1864.28  C1666544295        21249.0        19384.72   \n",
       "2     1  TRANSFER    181.00  C1305486145          181.0            0.00   \n",
       "3     1  CASH_OUT    181.00   C840083671          181.0            0.00   \n",
       "4     1   PAYMENT  11668.14  C2048537720        41554.0        29885.86   \n",
       "\n",
       "      nameDest  oldbalanceDest  newbalanceDest  isFraud  isFlaggedFraud  \n",
       "0  M1979787155             0.0             0.0        0               0  \n",
       "1  M2044282225             0.0             0.0        0               0  \n",
       "2   C553264065             0.0             0.0        1               0  \n",
       "3    C38997010         21182.0             0.0        1               0  \n",
       "4  M1230701703             0.0             0.0        0               0  "
      ]
     },
     "execution_count": 5,
     "metadata": {},
     "output_type": "execute_result"
    }
   ],
   "source": [
    "df_data = pd.read_csv(os.path.join(path, file))\n",
    "\n",
    "print ('shape: ', df_data.shape)\n",
    "df_data.head()"
   ]
  },
  {
   "cell_type": "code",
   "execution_count": 6,
   "metadata": {},
   "outputs": [
    {
     "name": "stdout",
     "output_type": "stream",
     "text": [
      "shape:  (6362620, 8)\n"
     ]
    },
    {
     "data": {
      "text/html": [
       "<div>\n",
       "<style scoped>\n",
       "    .dataframe tbody tr th:only-of-type {\n",
       "        vertical-align: middle;\n",
       "    }\n",
       "\n",
       "    .dataframe tbody tr th {\n",
       "        vertical-align: top;\n",
       "    }\n",
       "\n",
       "    .dataframe thead th {\n",
       "        text-align: right;\n",
       "    }\n",
       "</style>\n",
       "<table border=\"1\" class=\"dataframe\">\n",
       "  <thead>\n",
       "    <tr style=\"text-align: right;\">\n",
       "      <th></th>\n",
       "      <th>step</th>\n",
       "      <th>amount</th>\n",
       "      <th>oldbalanceOrg</th>\n",
       "      <th>newbalanceOrig</th>\n",
       "      <th>oldbalanceDest</th>\n",
       "      <th>newbalanceDest</th>\n",
       "      <th>isFraud</th>\n",
       "      <th>isFlaggedFraud</th>\n",
       "    </tr>\n",
       "  </thead>\n",
       "  <tbody>\n",
       "    <tr>\n",
       "      <th>0</th>\n",
       "      <td>1</td>\n",
       "      <td>9839.64</td>\n",
       "      <td>170136.0</td>\n",
       "      <td>160296.36</td>\n",
       "      <td>0.0</td>\n",
       "      <td>0.0</td>\n",
       "      <td>0</td>\n",
       "      <td>0</td>\n",
       "    </tr>\n",
       "    <tr>\n",
       "      <th>1</th>\n",
       "      <td>1</td>\n",
       "      <td>1864.28</td>\n",
       "      <td>21249.0</td>\n",
       "      <td>19384.72</td>\n",
       "      <td>0.0</td>\n",
       "      <td>0.0</td>\n",
       "      <td>0</td>\n",
       "      <td>0</td>\n",
       "    </tr>\n",
       "    <tr>\n",
       "      <th>2</th>\n",
       "      <td>1</td>\n",
       "      <td>181.00</td>\n",
       "      <td>181.0</td>\n",
       "      <td>0.00</td>\n",
       "      <td>0.0</td>\n",
       "      <td>0.0</td>\n",
       "      <td>1</td>\n",
       "      <td>0</td>\n",
       "    </tr>\n",
       "    <tr>\n",
       "      <th>3</th>\n",
       "      <td>1</td>\n",
       "      <td>181.00</td>\n",
       "      <td>181.0</td>\n",
       "      <td>0.00</td>\n",
       "      <td>21182.0</td>\n",
       "      <td>0.0</td>\n",
       "      <td>1</td>\n",
       "      <td>0</td>\n",
       "    </tr>\n",
       "    <tr>\n",
       "      <th>4</th>\n",
       "      <td>1</td>\n",
       "      <td>11668.14</td>\n",
       "      <td>41554.0</td>\n",
       "      <td>29885.86</td>\n",
       "      <td>0.0</td>\n",
       "      <td>0.0</td>\n",
       "      <td>0</td>\n",
       "      <td>0</td>\n",
       "    </tr>\n",
       "  </tbody>\n",
       "</table>\n",
       "</div>"
      ],
      "text/plain": [
       "   step    amount  oldbalanceOrg  newbalanceOrig  oldbalanceDest  \\\n",
       "0     1   9839.64       170136.0       160296.36             0.0   \n",
       "1     1   1864.28        21249.0        19384.72             0.0   \n",
       "2     1    181.00          181.0            0.00             0.0   \n",
       "3     1    181.00          181.0            0.00         21182.0   \n",
       "4     1  11668.14        41554.0        29885.86             0.0   \n",
       "\n",
       "   newbalanceDest  isFraud  isFlaggedFraud  \n",
       "0             0.0        0               0  \n",
       "1             0.0        0               0  \n",
       "2             0.0        1               0  \n",
       "3             0.0        1               0  \n",
       "4             0.0        0               0  "
      ]
     },
     "execution_count": 6,
     "metadata": {},
     "output_type": "execute_result"
    }
   ],
   "source": [
    "df_data = df_data.drop('nameDest', axis=1)\n",
    "df_data = df_data.drop('nameOrig', axis=1)\n",
    "df_data = df_data.drop('type', axis=1)\n",
    "\n",
    "print ('shape: ', df_data.shape)\n",
    "df_data.head()"
   ]
  },
  {
   "cell_type": "code",
   "execution_count": 7,
   "metadata": {},
   "outputs": [
    {
     "name": "stdout",
     "output_type": "stream",
     "text": [
      "0    6354407\n",
      "1       8213\n",
      "Name: isFraud, dtype: int64\n",
      "\n",
      "% of 0:  0.9987091795518198\n"
     ]
    },
    {
     "data": {
      "image/png": "[encoded data removed]",
      "text/plain": [
       "<Figure size 360x216 with 1 Axes>"
      ]
     },
     "metadata": {
      "needs_background": "light"
     },
     "output_type": "display_data"
    }
   ],
   "source": [
    "print (df_data['isFraud'].value_counts())\n",
    "print ()\n",
    "print ('% of 0: ', np.sum(df_data['isFraud']==0)/len(df_data))\n",
    "\n",
    "plt.figure(figsize=(5, 3))\n",
    "sns.countplot(df_data['isFraud'])\n",
    "plt.show()"
   ]
  },
  {
   "cell_type": "code",
   "execution_count": 8,
   "metadata": {},
   "outputs": [],
   "source": [
    "def feature_normalize(dataset):\n",
    "    mu = np.mean(dataset, axis=0)\n",
    "    sigma = np.std(dataset, axis=0)\n",
    "    return (dataset - mu) / sigma"
   ]
  },
  {
   "cell_type": "code",
   "execution_count": 27,
   "metadata": {},
   "outputs": [
    {
     "name": "stdout",
     "output_type": "stream",
     "text": [
      "shape of X:  (6362620, 6)\n",
      "shape of y:  (6362620, 2)\n"
     ]
    }
   ],
   "source": [
    "X, y = df_data.iloc[:,:-2], df_data.iloc[:, -2]\n",
    "y = tf.keras.utils.to_categorical(y, num_classes=2)\n",
    "\n",
    "print ('shape of X: ', X.shape)\n",
    "print ('shape of y: ', y.shape)"
   ]
  },
  {
   "cell_type": "code",
   "execution_count": 28,
   "metadata": {},
   "outputs": [
    {
     "name": "stdout",
     "output_type": "stream",
     "text": [
      "shape of X_train:  (5090096, 6)\n",
      "shape of y_test:  (1272524, 2)\n"
     ]
    }
   ],
   "source": [
    "X = feature_normalize(X.values)\n",
    "X_train, X_test, y_train, y_test = train_test_split(X, y, test_size=0.2, random_state=1)\n",
    "\n",
    "print ('shape of X_train: ', X_train.shape)\n",
    "print ('shape of y_test: ', y_test.shape)"
   ]
  },
  {
   "cell_type": "code",
   "execution_count": 29,
   "metadata": {},
   "outputs": [],
   "source": [
    "X_train_tf = tf.convert_to_tensor(X_train, dtype=tf.float32)\n",
    "y_train_tf = tf.convert_to_tensor(y_train, dtype=tf.float32)\n",
    "X_test_tf = tf.convert_to_tensor(X_test, dtype=tf.float32)\n",
    "y_test_tf = tf.convert_to_tensor(y_test, dtype=tf.float32)"
   ]
  },
  {
   "cell_type": "markdown",
   "metadata": {},
   "source": [
    "### Models"
   ]
  },
  {
   "cell_type": "markdown",
   "metadata": {},
   "source": [
    "#### Pattern 1"
   ]
  },
  {
   "cell_type": "code",
   "execution_count": 12,
   "metadata": {},
   "outputs": [],
   "source": [
    "class Pattern1():        \n",
    "    def __init__(self):        \n",
    "        input_size = X_train.shape[1]\n",
    "        hidden_size1 = 10\n",
    "        hidden_size2 = 20\n",
    "        hidden_size3 = 10\n",
    "        output_size = y_train.shape[1]\n",
    "        \n",
    "        self.fc1_w = tfe.Variable(tf.truncated_normal([input_size, hidden_size1],\n",
    "                                                       stddev=0.1), dtype=tf.float32)\n",
    "        self.fc1_b = tfe.Variable(tf.constant(0.1, shape=[hidden_size1]),\n",
    "                                  dtype=tf.float32)\n",
    "        self.fc2_w = tfe.Variable(tf.truncated_normal([hidden_size1, hidden_size2],\n",
    "                                                      stddev=0.1), dtype=tf.float32)\n",
    "        self.fc2_b = tfe.Variable(tf.constant(0.1, shape=[hidden_size2]),\n",
    "                                  dtype=tf.float32)\n",
    "        self.fc3_w = tfe.Variable(tf.truncated_normal([hidden_size2, hidden_size3], \n",
    "                                                      stddev=0.1), dtype=tf.float32)\n",
    "        self.fc3_b = tfe.Variable(tf.constant(0.1, shape=[hidden_size3]), \n",
    "                                  dtype=tf.float32)\n",
    "        self.fc4_w = tfe.Variable(tf.truncated_normal([hidden_size3, output_size], \n",
    "                                                      stddev=0.1), dtype=tf.float32)\n",
    "        self.fc4_b = tfe.Variable(tf.constant(0.1, shape=[output_size]), \n",
    "                                  dtype=tf.float32)        \n",
    "        self.variables = [\n",
    "            self.fc1_w, self.fc1_b,\n",
    "            self.fc2_w, self.fc2_b,\n",
    "            self.fc3_w, self.fc3_b,\n",
    "            self.fc4_w, self.fc4_b,\n",
    "        ]\n",
    "        \n",
    "    def __call__(self, x):\n",
    "        h = tf.nn.relu(tf.matmul(x, self.fc1_w) + self.fc1_b)\n",
    "        h = tf.nn.relu(tf.matmul(h, self.fc2_w) + self.fc2_b)\n",
    "        h = tf.nn.relu(tf.matmul(h, self.fc3_w) + self.fc3_b)\n",
    "        y_pred = tf.matmul(h, self.fc4_w) + self.fc4_b\n",
    "        return y_pred"
   ]
  },
  {
   "cell_type": "code",
   "execution_count": 31,
   "metadata": {},
   "outputs": [
    {
     "data": {
      "text/plain": [
       "<tf.Tensor: id=2370255, shape=(1, 2), dtype=float32, numpy=array([[0.1124927 , 0.12200893]], dtype=float32)>"
      ]
     },
     "execution_count": 31,
     "metadata": {},
     "output_type": "execute_result"
    }
   ],
   "source": [
    "model = Pattern1()\n",
    "\n",
    "model(X_test_tf[:1])"
   ]
  },
  {
   "cell_type": "markdown",
   "metadata": {},
   "source": [
    "#### Pattern 2"
   ]
  },
  {
   "cell_type": "code",
   "execution_count": 13,
   "metadata": {},
   "outputs": [],
   "source": [
    "class Pattern2(tf.keras.Model):\n",
    "    def __init__(self):\n",
    "        super(Pattern2, self).__init__()\n",
    "        \n",
    "        input_shape = X_train.shape[1:]\n",
    "        hidden_size1 = 10\n",
    "        hidden_size2 = 20\n",
    "        hidden_size3 = 10\n",
    "        output_size = y_train.shape[1]\n",
    "        \n",
    "        self.dense1 = tf.keras.layers.Dense(hidden_size1, activation='relu',\n",
    "                                           input_shape=input_shape)\n",
    "        self.dense2 = tf.keras.layers.Dense(hidden_size2, activation='relu')\n",
    "        self.dense3 = tf.keras.layers.Dense(hidden_size3, activation='relu')\n",
    "        self.dense4 = tf.keras.layers.Dense(output_size, activation='softmax')\n",
    "        \n",
    "    def __call__(self, x):\n",
    "        h = self.dense1(x)\n",
    "        h = self.dense2(h)\n",
    "        h = self.dense3(h)\n",
    "        h = self.dense4(h)\n",
    "        return h"
   ]
  },
  {
   "cell_type": "code",
   "execution_count": 32,
   "metadata": {},
   "outputs": [
    {
     "data": {
      "text/plain": [
       "<tf.Tensor: id=2370368, shape=(1, 2), dtype=float32, numpy=array([[0.5131002, 0.4868998]], dtype=float32)>"
      ]
     },
     "execution_count": 32,
     "metadata": {},
     "output_type": "execute_result"
    }
   ],
   "source": [
    "model = Pattern2()\n",
    "\n",
    "model(X_train_tf[:1, :])"
   ]
  },
  {
   "cell_type": "code",
   "execution_count": 114,
   "metadata": {},
   "outputs": [],
   "source": [
    "#model.summary()"
   ]
  },
  {
   "cell_type": "markdown",
   "metadata": {},
   "source": [
    "#### Pattern 3"
   ]
  },
  {
   "cell_type": "code",
   "execution_count": 33,
   "metadata": {},
   "outputs": [],
   "source": [
    "input_shape = X_train.shape[1:]\n",
    "hidden_size1 = 10\n",
    "hidden_size2 = 20\n",
    "hidden_size3 = 10\n",
    "output_size = y_train.shape[1]\n",
    "\n",
    "Pattern3 = tf.keras.Sequential([\n",
    "    tf.keras.layers.InputLayer(input_shape=input_shape),\n",
    "    tf.keras.layers.Dense(hidden_size1, activation='relu'),\n",
    "    tf.keras.layers.Dense(hidden_size2, activation='relu'),\n",
    "    tf.keras.layers.Dense(hidden_size3, activation='relu'),\n",
    "    tf.keras.layers.Dense(output_size, activation='softmax'),    \n",
    "])"
   ]
  },
  {
   "cell_type": "code",
   "execution_count": 34,
   "metadata": {},
   "outputs": [
    {
     "name": "stdout",
     "output_type": "stream",
     "text": [
      "_________________________________________________________________\n",
      "Layer (type)                 Output Shape              Param #   \n",
      "=================================================================\n",
      "dense_12 (Dense)             (None, 10)                70        \n",
      "_________________________________________________________________\n",
      "dense_13 (Dense)             (None, 20)                220       \n",
      "_________________________________________________________________\n",
      "dense_14 (Dense)             (None, 10)                210       \n",
      "_________________________________________________________________\n",
      "dense_15 (Dense)             (None, 2)                 22        \n",
      "=================================================================\n",
      "Total params: 522\n",
      "Trainable params: 522\n",
      "Non-trainable params: 0\n",
      "_________________________________________________________________\n"
     ]
    }
   ],
   "source": [
    "Pattern3.summary()"
   ]
  },
  {
   "cell_type": "markdown",
   "metadata": {},
   "source": [
    "### Training"
   ]
  },
  {
   "cell_type": "markdown",
   "metadata": {},
   "source": [
    "#### Pattern 1"
   ]
  },
  {
   "cell_type": "code",
   "execution_count": 61,
   "metadata": {},
   "outputs": [],
   "source": [
    "model = Pattern3\n",
    "\n",
    "model.compile(loss='categorical_crossentropy',\n",
    "              optimizer='adam',\n",
    "              metrics=['accuracy'])"
   ]
  },
  {
   "cell_type": "code",
   "execution_count": 62,
   "metadata": {},
   "outputs": [
    {
     "name": "stdout",
     "output_type": "stream",
     "text": [
      "Train on 5090096 samples, validate on 1272524 samples\n",
      "Epoch 1/3\n",
      " - 12s - loss: 0.0032 - acc: 0.9994 - val_loss: 0.0029 - val_acc: 0.9994\n",
      "Epoch 2/3\n",
      " - 12s - loss: 0.0029 - acc: 0.9994 - val_loss: 0.0036 - val_acc: 0.9991\n",
      "Epoch 3/3\n",
      " - 12s - loss: 0.0029 - acc: 0.9994 - val_loss: 0.0031 - val_acc: 0.9993\n"
     ]
    }
   ],
   "source": [
    "early_stopping = EarlyStopping(monitor='val_loss', mode='min', \n",
    "                               patience=5, verbose=1)\n",
    "reduce_lr = ReduceLROnPlateau(monitor='val_loss', mode='min', \n",
    "                              factor=0.1, patience=5, min_lr=0.00001, verbose=1)\n",
    "\n",
    "epochs = 3\n",
    "batch_size = 1000\n",
    "\n",
    "history = model.fit(X_train, y_train,\n",
    "                    batch_size=batch_size,\n",
    "                    epochs=epochs,\n",
    "                    validation_data=(X_test, y_test),\n",
    "                    callbacks=[early_stopping, reduce_lr],\n",
    "                    verbose=2,                    \n",
    "                    )"
   ]
  },
  {
   "cell_type": "code",
   "execution_count": 63,
   "metadata": {},
   "outputs": [
    {
     "data": {
      "image/png": "[encoded data removed]",
      "text/plain": [
       "<Figure size 360x216 with 1 Axes>"
      ]
     },
     "metadata": {
      "needs_background": "light"
     },
     "output_type": "display_data"
    }
   ],
   "source": [
    "plt.figure(figsize=(5, 3))\n",
    "plt.plot(history.epoch, history.history[\"loss\"], label=\"Train loss\")\n",
    "plt.plot(history.epoch, history.history[\"val_loss\"], label=\"Validation loss\")\n",
    "plt.title('Loss')\n",
    "plt.xlabel('epoch')\n",
    "plt.legend(loc='best')\n",
    "plt.show()"
   ]
  },
  {
   "cell_type": "code",
   "execution_count": 64,
   "metadata": {},
   "outputs": [
    {
     "data": {
      "image/png": "[encoded data removed]",
      "text/plain": [
       "<Figure size 360x216 with 1 Axes>"
      ]
     },
     "metadata": {
      "needs_background": "light"
     },
     "output_type": "display_data"
    }
   ],
   "source": [
    "plt.figure(figsize=(5, 3))\n",
    "plt.plot(history.epoch, history.history[\"acc\"], label=\"Train accuracy\")\n",
    "plt.plot(history.epoch, history.history[\"val_acc\"], label=\"Validation accuracy\")\n",
    "plt.title('Accuracy')\n",
    "plt.xlabel('epoch')\n",
    "plt.legend(loc='best')\n",
    "plt.show()"
   ]
  },
  {
   "cell_type": "code",
   "execution_count": 65,
   "metadata": {},
   "outputs": [
    {
     "data": {
      "image/png": "[encoded data removed]",
      "text/plain": [
       "<Figure size 216x216 with 2 Axes>"
      ]
     },
     "metadata": {
      "needs_background": "light"
     },
     "output_type": "display_data"
    }
   ],
   "source": [
    "preds = model.predict(X_test, batch_size=1000)\n",
    "\n",
    "LABELS = ['Normal','Fraud'] \n",
    "\n",
    "truth = np.argmax(y_test, axis=1)\n",
    "predictions = np.argmax(preds, axis=1)\n",
    "confusion_matrix = metrics.confusion_matrix(truth, predictions)\n",
    "\n",
    "plt.figure(figsize=(3, 3))\n",
    "sns.heatmap(confusion_matrix, xticklabels=LABELS, yticklabels=LABELS,\n",
    "            annot=True, fmt=\"d\", linewidth=0.1, linecolor='white', \n",
    "            annot_kws={\"size\": 10});\n",
    "plt.title(\"Confusion matrix\", fontsize=10)\n",
    "plt.ylabel('True label', fontsize=10)\n",
    "plt.xlabel('Predicted label', fontsize=10)\n",
    "plt.show()"
   ]
  },
  {
   "cell_type": "code",
   "execution_count": 66,
   "metadata": {},
   "outputs": [
    {
     "name": "stdout",
     "output_type": "stream",
     "text": [
      "error count:  833\n",
      "f1: 0.671\n",
      "precision: 0.961\n",
      "recall: 0.515\n"
     ]
    }
   ],
   "source": [
    "values = confusion_matrix.view()\n",
    "error_count = values.sum() - np.trace(values)\n",
    "\n",
    "f1 = metrics.f1_score(truth, predictions)\n",
    "precision = metrics.precision_score(truth, predictions)\n",
    "recall = metrics.recall_score(truth, predictions)\n",
    "\n",
    "print ('error count: ', error_count)\n",
    "print ('f1: {:.3f}'.format(f1))\n",
    "print ('precision: {:.3f}'.format(precision))\n",
    "print ('recall: {:.3f}'.format(recall))"
   ]
  },
  {
   "cell_type": "markdown",
   "metadata": {},
   "source": [
    "#### Pattern 2"
   ]
  },
  {
   "cell_type": "code",
   "execution_count": 40,
   "metadata": {},
   "outputs": [],
   "source": [
    "model = Pattern3\n",
    "\n",
    "model.compile(loss='categorical_crossentropy',\n",
    "              optimizer='adam',\n",
    "              metrics=['accuracy'])"
   ]
  },
  {
   "cell_type": "code",
   "execution_count": 41,
   "metadata": {},
   "outputs": [
    {
     "name": "stdout",
     "output_type": "stream",
     "text": [
      "Train on 5090096 samples, validate on 1272524 samples\n",
      "Epoch 1/3\n",
      " - 12s - loss: 0.0416 - acc: 0.9984 - val_loss: 0.0210 - val_acc: 0.9965\n",
      "Epoch 2/3\n",
      " - 13s - loss: 0.0356 - acc: 0.9981 - val_loss: 0.0099 - val_acc: 0.9981\n",
      "Epoch 3/3\n",
      " - 12s - loss: 0.0324 - acc: 0.9982 - val_loss: 0.0081 - val_acc: 0.9988\n"
     ]
    }
   ],
   "source": [
    "class_weight = {0 : 1., 1: 20.}\n",
    "\n",
    "epochs = 3\n",
    "batch_size = 1000\n",
    "\n",
    "history = model.fit(X_train, y_train,\n",
    "                    batch_size=batch_size,\n",
    "                    epochs=epochs,\n",
    "                    validation_data=(X_test, y_test),\n",
    "                    class_weight=class_weight,\n",
    "                    verbose=2,                    \n",
    "                    )"
   ]
  },
  {
   "cell_type": "code",
   "execution_count": 42,
   "metadata": {},
   "outputs": [
    {
     "data": {
      "image/png": "[encoded data removed]",
      "text/plain": [
       "<Figure size 216x216 with 2 Axes>"
      ]
     },
     "metadata": {
      "needs_background": "light"
     },
     "output_type": "display_data"
    }
   ],
   "source": [
    "preds = model.predict(X_test, batch_size=1000)\n",
    "\n",
    "LABELS = ['Normal','Fraud'] \n",
    "\n",
    "truth = np.argmax(y_test, axis=1)\n",
    "predictions = np.argmax(preds, axis=1)\n",
    "confusion_matrix = metrics.confusion_matrix(truth, predictions)\n",
    "\n",
    "plt.figure(figsize=(3, 3))\n",
    "sns.heatmap(confusion_matrix, xticklabels=LABELS, yticklabels=LABELS,\n",
    "            annot=True, fmt=\"d\", linewidth=0.1, linecolor='white', \n",
    "            annot_kws={\"size\": 10});\n",
    "plt.title(\"Confusion matrix\", fontsize=10)\n",
    "plt.ylabel('True label', fontsize=10)\n",
    "plt.xlabel('Predicted label', fontsize=10)\n",
    "plt.show()"
   ]
  },
  {
   "cell_type": "code",
   "execution_count": 43,
   "metadata": {},
   "outputs": [
    {
     "name": "stdout",
     "output_type": "stream",
     "text": [
      "error count:  1528\n",
      "f1: 0.600\n",
      "precision: 0.527\n",
      "recall: 0.695\n"
     ]
    }
   ],
   "source": [
    "values = confusion_matrix.view()\n",
    "error_count = values.sum() - np.trace(values)\n",
    "\n",
    "f1 = metrics.f1_score(truth, predictions)\n",
    "precision = metrics.precision_score(truth, predictions)\n",
    "recall = metrics.recall_score(truth, predictions)\n",
    "\n",
    "print ('error count: ', error_count)\n",
    "print ('f1: {:.3f}'.format(f1))\n",
    "print ('precision: {:.3f}'.format(precision))\n",
    "print ('recall: {:.3f}'.format(recall))"
   ]
  },
  {
   "cell_type": "markdown",
   "metadata": {},
   "source": [
    "#### Pattern 3"
   ]
  },
  {
   "cell_type": "code",
   "execution_count": 57,
   "metadata": {},
   "outputs": [],
   "source": [
    "def loss(model, x, y):\n",
    "    y_pred = model(x)\n",
    "    cross_entropy = - tf.reduce_mean(tf.reduce_sum(y*tf.log(tf.clip_by_value(y_pred, 1e-10, 1.0)),\n",
    "                                                   axis=1))\n",
    "    return cross_entropy\n",
    "\n",
    "def accuracy(y_true, y_pred):\n",
    "    correct_preds = tf.equal(tf.argmax(y_true, axis = 1),\n",
    "                             tf.argmax(y_pred, axis = 1))\n",
    "    accuracy = tf.reduce_mean(tf.cast(correct_preds, tf.float32))\n",
    "    return accuracy\n",
    " \n",
    "def grad(model, x, y):\n",
    "    with tf.GradientTape() as tape:\n",
    "        loss_value = loss(model, x, y)\n",
    "    return tape.gradient(loss_value, model.variables)"
   ]
  },
  {
   "cell_type": "code",
   "execution_count": 58,
   "metadata": {},
   "outputs": [
    {
     "name": "stderr",
     "output_type": "stream",
     "text": [
      "                                                                                                                       \r"
     ]
    },
    {
     "name": "stdout",
     "output_type": "stream",
     "text": [
      "epoch:\t1\tloss:\t0.00451\tacc:\t0.99920\tval_loss:\t0.00461\tval_acc:\t0.99919\n"
     ]
    },
    {
     "name": "stderr",
     "output_type": "stream",
     "text": [
      "                                                                                                                       \r"
     ]
    },
    {
     "name": "stdout",
     "output_type": "stream",
     "text": [
      "epoch:\t2\tloss:\t0.00350\tacc:\t0.99929\tval_loss:\t0.00352\tval_acc:\t0.99929\n"
     ]
    },
    {
     "name": "stderr",
     "output_type": "stream",
     "text": [
      "                                                                                                                       \r"
     ]
    },
    {
     "name": "stdout",
     "output_type": "stream",
     "text": [
      "epoch:\t3\tloss:\t0.00310\tacc:\t0.99934\tval_loss:\t0.00314\tval_acc:\t0.99932\n"
     ]
    },
    {
     "name": "stderr",
     "output_type": "stream",
     "text": [
      "100%|████████████████████████████████████████████████████████████████████████████████████| 3/3 [01:07<00:00, 22.41s/it]\n"
     ]
    }
   ],
   "source": [
    "model = Pattern2()\n",
    "\n",
    "epochs = 3\n",
    "batch_size = 1000\n",
    " \n",
    "optimizer = tf.train.AdamOptimizer()\n",
    " \n",
    "for epoch in tqdm(range(epochs)):\n",
    "    \n",
    "    n = tf.shape(X_train_tf).numpy()[0]\n",
    "    perm = np.random.permutation(n)\n",
    "    \n",
    "    for i in range(0, n, batch_size): \n",
    "        batch_x = tf.gather(X_train_tf, perm[i:i+batch_size])\n",
    "        batch_y = tf.gather(y_train_tf, perm[i:i+batch_size])\n",
    " \n",
    "        grads = grad(model, batch_x, batch_y)\n",
    "        optimizer.apply_gradients(zip(grads, model.variables), \n",
    "                                  global_step=tf.train.get_or_create_global_step())\n",
    " \n",
    "    train_loss = loss(model, X_train_tf, y_train_tf)\n",
    "    train_acc = accuracy(y_train_tf, model(X_train_tf))\n",
    "    \n",
    "    valid_loss = loss(model, X_test_tf, y_test_tf)\n",
    "    valid_acc = accuracy(y_test_tf, model(X_test_tf))\n",
    "     \n",
    "    if (epoch+1)%1 == 0:\n",
    "        tqdm.write('epoch:\\t{}\\tloss:\\t{:.5f}\\tacc:\\t{:.5f}\\tval_loss:\\t{:.5f}\\tval_acc:\\t{:.5f}'.format(\n",
    "            epoch+1, train_loss, train_acc, valid_loss, valid_acc)\n",
    "                  )"
   ]
  },
  {
   "cell_type": "code",
   "execution_count": 59,
   "metadata": {},
   "outputs": [
    {
     "data": {
      "image/png": "[encoded data removed]",
      "text/plain": [
       "<Figure size 216x216 with 2 Axes>"
      ]
     },
     "metadata": {
      "needs_background": "light"
     },
     "output_type": "display_data"
    }
   ],
   "source": [
    "preds = model(X_test_tf)\n",
    "\n",
    "LABELS = ['Normal','Fraud'] \n",
    "\n",
    "truth = np.argmax(y_test_tf, axis=1)\n",
    "predictions = np.argmax(preds, axis=1)\n",
    "confusion_matrix = metrics.confusion_matrix(truth, predictions)\n",
    "\n",
    "plt.figure(figsize=(3, 3))\n",
    "sns.heatmap(confusion_matrix, xticklabels=LABELS, yticklabels=LABELS,\n",
    "            annot=True, fmt=\"d\", linewidth=0.1, linecolor='white', \n",
    "            annot_kws={\"size\": 10});\n",
    "plt.title(\"Confusion matrix\", fontsize=10)\n",
    "plt.ylabel('True label', fontsize=10)\n",
    "plt.xlabel('Predicted label', fontsize=10)\n",
    "plt.show()"
   ]
  },
  {
   "cell_type": "code",
   "execution_count": 60,
   "metadata": {},
   "outputs": [
    {
     "name": "stdout",
     "output_type": "stream",
     "text": [
      "error count:  859\n",
      "f1: 0.673\n",
      "precision: 0.902\n",
      "recall: 0.537\n"
     ]
    }
   ],
   "source": [
    "values = confusion_matrix.view()\n",
    "error_count = values.sum() - np.trace(values)\n",
    "\n",
    "f1 = metrics.f1_score(truth, predictions)\n",
    "precision = metrics.precision_score(truth, predictions)\n",
    "recall = metrics.recall_score(truth, predictions)\n",
    "\n",
    "print ('error count: ', error_count)\n",
    "print ('f1: {:.3f}'.format(f1))\n",
    "print ('precision: {:.3f}'.format(precision))\n",
    "print ('recall: {:.3f}'.format(recall))"
   ]
  },
  {
   "cell_type": "markdown",
   "metadata": {},
   "source": [
    "#### Pattern 4"
   ]
  },
  {
   "cell_type": "code",
   "execution_count": 51,
   "metadata": {},
   "outputs": [],
   "source": [
    "def focal_loss(gamma=2., alpha=4.):\n",
    "\n",
    "    gamma = float(gamma)\n",
    "    alpha = float(alpha)\n",
    "\n",
    "    def focal_loss_fixed(y_true, y_pred):\n",
    "        \"\"\"Focal loss for multi-classification\n",
    "        FL(p_t)=-alpha(1-p_t)^{gamma}ln(p_t)\n",
    "        Notice: y_pred is probability after softmax\n",
    "        gradient is d(Fl)/d(p_t) not d(Fl)/d(x) as described in paper\n",
    "        d(Fl)/d(p_t) * [p_t(1-p_t)] = d(Fl)/d(x)\n",
    "        Focal Loss for Dense Object Detection\n",
    "        https://arxiv.org/abs/1708.02002\n",
    "\n",
    "        Arguments:\n",
    "            y_true {tensor} -- ground truth labels, shape of [batch_size, num_cls]\n",
    "            y_pred {tensor} -- model's output, shape of [batch_size, num_cls]\n",
    "\n",
    "        Keyword Arguments:\n",
    "            gamma {float} -- (default: {2.0})\n",
    "            alpha {float} -- (default: {4.0})\n",
    "\n",
    "        Returns:\n",
    "            [tensor] -- loss.\n",
    "        \"\"\"\n",
    "        epsilon = 1.e-9\n",
    "        y_true = tf.convert_to_tensor(y_true, tf.float32)\n",
    "        y_pred = tf.convert_to_tensor(y_pred, tf.float32)\n",
    "\n",
    "        model_out = tf.add(y_pred, epsilon)\n",
    "        ce = tf.multiply(y_true, -tf.log(model_out))\n",
    "        weight = tf.multiply(y_true, tf.pow(tf.subtract(1., model_out), gamma))\n",
    "        fl = tf.multiply(alpha, tf.multiply(weight, ce))\n",
    "        reduced_fl = tf.reduce_max(fl, axis=1)\n",
    "        return tf.reduce_mean(reduced_fl)\n",
    "    return focal_loss_fixed"
   ]
  },
  {
   "cell_type": "code",
   "execution_count": 53,
   "metadata": {},
   "outputs": [],
   "source": [
    "model = Pattern3\n",
    "\n",
    "model.compile(loss=focal_loss(alpha=1),\n",
    "              optimizer='adam',\n",
    "              metrics=['accuracy'])"
   ]
  },
  {
   "cell_type": "code",
   "execution_count": 54,
   "metadata": {},
   "outputs": [
    {
     "name": "stdout",
     "output_type": "stream",
     "text": [
      "Train on 5090096 samples, validate on 1272524 samples\n",
      "WARNING:tensorflow:From C:\\Users\\takeshikondo\\Anaconda3\\envs\\Python36\\lib\\site-packages\\tensorflow\\python\\ops\\math_grad.py:102: div (from tensorflow.python.ops.math_ops) is deprecated and will be removed in a future version.\n",
      "Instructions for updating:\n",
      "Deprecated in favor of operator or tf.math.divide.\n",
      "Epoch 1/3\n",
      " - 12s - loss: 0.0010 - acc: 0.9993 - val_loss: 9.2969e-04 - val_acc: 0.9994\n",
      "Epoch 2/3\n",
      " - 11s - loss: 9.6734e-04 - acc: 0.9994 - val_loss: 0.0011 - val_acc: 0.9993\n",
      "Epoch 3/3\n",
      " - 13s - loss: 9.4486e-04 - acc: 0.9994 - val_loss: 9.1001e-04 - val_acc: 0.9994\n"
     ]
    }
   ],
   "source": [
    "early_stopping = EarlyStopping(monitor='val_loss', mode='min', \n",
    "                               patience=5, verbose=1)\n",
    "reduce_lr = ReduceLROnPlateau(monitor='val_loss', mode='min', \n",
    "                              factor=0.1, patience=5, min_lr=0.00001, verbose=1)\n",
    "\n",
    "epochs = 3\n",
    "batch_size = 1000\n",
    "\n",
    "history = model.fit(X_train, y_train,\n",
    "                    batch_size=batch_size,\n",
    "                    epochs=epochs,\n",
    "                    validation_data=(X_test, y_test),\n",
    "                    callbacks=[early_stopping, reduce_lr],\n",
    "                    verbose=2,                    \n",
    "                    )"
   ]
  },
  {
   "cell_type": "code",
   "execution_count": 55,
   "metadata": {},
   "outputs": [
    {
     "data": {
      "image/png": "[encoded data removed]",
      "text/plain": [
       "<Figure size 216x216 with 2 Axes>"
      ]
     },
     "metadata": {
      "needs_background": "light"
     },
     "output_type": "display_data"
    }
   ],
   "source": [
    "preds = model.predict(X_test, batch_size=1000)\n",
    "\n",
    "LABELS = ['Normal','Fraud'] \n",
    "\n",
    "truth = np.argmax(y_test, axis=1)\n",
    "predictions = np.argmax(preds, axis=1)\n",
    "confusion_matrix = metrics.confusion_matrix(truth, predictions)\n",
    "\n",
    "plt.figure(figsize=(3, 3))\n",
    "sns.heatmap(confusion_matrix, xticklabels=LABELS, yticklabels=LABELS,\n",
    "            annot=True, fmt=\"d\", linewidth=0.1, linecolor='white', \n",
    "            annot_kws={\"size\": 10});\n",
    "plt.title(\"Confusion matrix\", fontsize=10)\n",
    "plt.ylabel('True label', fontsize=10)\n",
    "plt.xlabel('Predicted label', fontsize=10)\n",
    "plt.show()"
   ]
  },
  {
   "cell_type": "code",
   "execution_count": 56,
   "metadata": {},
   "outputs": [
    {
     "name": "stdout",
     "output_type": "stream",
     "text": [
      "error count:  799\n",
      "f1: 0.688\n",
      "precision: 0.964\n",
      "recall: 0.535\n"
     ]
    }
   ],
   "source": [
    "values = confusion_matrix.view()\n",
    "error_count = values.sum() - np.trace(values)\n",
    "\n",
    "f1 = metrics.f1_score(truth, predictions)\n",
    "precision = metrics.precision_score(truth, predictions)\n",
    "recall = metrics.recall_score(truth, predictions)\n",
    "\n",
    "print ('error count: ', error_count)\n",
    "print ('f1: {:.3f}'.format(f1))\n",
    "print ('precision: {:.3f}'.format(precision))\n",
    "print ('recall: {:.3f}'.format(recall))"
   ]
  },
  {
   "cell_type": "markdown",
   "metadata": {},
   "source": [
    "#### Pattern 5"
   ]
  },
  {
   "cell_type": "code",
   "execution_count": 67,
   "metadata": {},
   "outputs": [],
   "source": [
    "def ce_loss(model, x, y):\n",
    "    y_pred = model(x)\n",
    "    cross_entropy = - tf.reduce_mean(tf.reduce_sum(y*tf.log(tf.clip_by_value(y_pred, 1e-10, 1.0)),\n",
    "                                                   axis=1))\n",
    "    return cross_entropy\n",
    "\n",
    "def focal_loss(model, x, y, gamma=2., alpha=4.):\n",
    "    epsilon = 1.e-9\n",
    "    y_true = tf.convert_to_tensor(y, tf.float32)\n",
    "    y_pred = tf.convert_to_tensor(model(x), tf.float32)\n",
    "\n",
    "    model_out = tf.add(y_pred, epsilon)\n",
    "    ce = tf.multiply(y_true, -tf.log(model_out))\n",
    "    weight = tf.multiply(y_true, tf.pow(tf.subtract(1., model_out), gamma))\n",
    "    fl = tf.multiply(alpha, tf.multiply(weight, ce))\n",
    "    reduced_fl = tf.reduce_max(fl, axis=1)\n",
    "    return tf.reduce_mean(reduced_fl)\n",
    "\n",
    "def accuracy(y_true, y_pred):\n",
    "    correct_preds = tf.equal(tf.argmax(y_true, axis = 1),\n",
    "                             tf.argmax(y_pred, axis = 1))\n",
    "    accuracy = tf.reduce_mean(tf.cast(correct_preds, tf.float32))\n",
    "    return accuracy\n",
    " \n",
    "def grad(model, loss, x, y):\n",
    "    with tf.GradientTape() as tape:\n",
    "        loss_value = loss(model, x, y)\n",
    "    return tape.gradient(loss_value, model.variables)"
   ]
  },
  {
   "cell_type": "code",
   "execution_count": 73,
   "metadata": {},
   "outputs": [
    {
     "name": "stderr",
     "output_type": "stream",
     "text": [
      "                                                                                                                       \r"
     ]
    },
    {
     "name": "stdout",
     "output_type": "stream",
     "text": [
      "epoch:\t1\tloss:\t0.00518\tacc:\t0.99926\tval_loss:\t0.00527\tval_acc:\t0.99926\n"
     ]
    },
    {
     "name": "stderr",
     "output_type": "stream",
     "text": [
      "                                                                                                                       \r"
     ]
    },
    {
     "name": "stdout",
     "output_type": "stream",
     "text": [
      "epoch:\t2\tloss:\t0.00447\tacc:\t0.99932\tval_loss:\t0.00454\tval_acc:\t0.99930\n"
     ]
    },
    {
     "name": "stderr",
     "output_type": "stream",
     "text": [
      "                                                                                                                       \r"
     ]
    },
    {
     "name": "stdout",
     "output_type": "stream",
     "text": [
      "epoch:\t3\tloss:\t0.00407\tacc:\t0.99934\tval_loss:\t0.00410\tval_acc:\t0.99931\n"
     ]
    },
    {
     "name": "stderr",
     "output_type": "stream",
     "text": [
      "100%|████████████████████████████████████████████████████████████████████████████████████| 3/3 [01:15<00:00, 25.57s/it]\n"
     ]
    }
   ],
   "source": [
    "model = Pattern2()\n",
    "loss = focal_loss\n",
    "epochs = 3\n",
    "batch_size = 1000\n",
    " \n",
    "optimizer = tf.train.AdamOptimizer()\n",
    " \n",
    "for epoch in tqdm(range(epochs)):\n",
    "    \n",
    "    n = tf.shape(X_train_tf).numpy()[0]\n",
    "    perm = np.random.permutation(n)\n",
    "    \n",
    "    for i in range(0, n, batch_size): \n",
    "        batch_x = tf.gather(X_train_tf, perm[i:i+batch_size])\n",
    "        batch_y = tf.gather(y_train_tf, perm[i:i+batch_size])\n",
    " \n",
    "        grads = grad(model, loss, batch_x, batch_y)\n",
    "        optimizer.apply_gradients(zip(grads, model.variables), \n",
    "                                  global_step=tf.train.get_or_create_global_step())\n",
    " \n",
    "    train_loss = loss(model, X_train_tf, y_train_tf)\n",
    "    train_acc = accuracy(y_train_tf, model(X_train_tf))\n",
    "    \n",
    "    valid_loss = loss(model, X_test_tf, y_test_tf)\n",
    "    valid_acc = accuracy(y_test_tf, model(X_test_tf))\n",
    "     \n",
    "    if (epoch+1)%1 == 0:\n",
    "        tqdm.write('epoch:\\t{}\\tloss:\\t{:.5f}\\tacc:\\t{:.5f}\\tval_loss:\\t{:.5f}\\tval_acc:\\t{:.5f}'.format(\n",
    "            epoch+1, train_loss, train_acc, valid_loss, valid_acc)\n",
    "                  )"
   ]
  },
  {
   "cell_type": "code",
   "execution_count": 74,
   "metadata": {},
   "outputs": [
    {
     "data": {
      "image/png": "[encoded data removed]",
      "text/plain": [
       "<Figure size 216x216 with 2 Axes>"
      ]
     },
     "metadata": {
      "needs_background": "light"
     },
     "output_type": "display_data"
    }
   ],
   "source": [
    "preds = model(X_test_tf)\n",
    "\n",
    "LABELS = ['Normal','Fraud'] \n",
    "\n",
    "truth = np.argmax(y_test_tf, axis=1)\n",
    "predictions = np.argmax(preds, axis=1)\n",
    "confusion_matrix = metrics.confusion_matrix(truth, predictions)\n",
    "\n",
    "plt.figure(figsize=(3, 3))\n",
    "sns.heatmap(confusion_matrix, xticklabels=LABELS, yticklabels=LABELS,\n",
    "            annot=True, fmt=\"d\", linewidth=0.1, linecolor='white', \n",
    "            annot_kws={\"size\": 10});\n",
    "plt.title(\"Confusion matrix\", fontsize=10)\n",
    "plt.ylabel('True label', fontsize=10)\n",
    "plt.xlabel('Predicted label', fontsize=10)\n",
    "plt.show()"
   ]
  }
 ],
 "metadata": {
  "kernelspec": {
   "display_name": "Python 3",
   "language": "python",
   "name": "python3"
  },
  "language_info": {
   "codemirror_mode": {
    "name": "ipython",
    "version": 3
   },
   "file_extension": ".py",
   "mimetype": "text/x-python",
   "name": "python",
   "nbconvert_exporter": "python",
   "pygments_lexer": "ipython3",
   "version": "3.6.8"
  }
 },
 "nbformat": 4,
 "nbformat_minor": 2
}
